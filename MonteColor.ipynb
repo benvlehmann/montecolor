{
 "cells": [
  {
   "cell_type": "code",
   "execution_count": 1,
   "id": "8cfe4fe0-42de-441e-bbb2-1da3a0d23d8b",
   "metadata": {},
   "outputs": [],
   "source": [
    "import numpy as np\n",
    "from montecolor.distance import CVD_TYPES\n",
    "from montecolor.palette import Palette"
   ]
  },
  {
   "cell_type": "markdown",
   "id": "0284cc53-4a80-40f7-bd17-e5a8ad01edb6",
   "metadata": {},
   "source": [
    "# Working with palettes"
   ]
  },
  {
   "cell_type": "markdown",
   "id": "b9a5011e-17f9-48a2-b9a4-2cb5cda53ae5",
   "metadata": {},
   "source": [
    "Each palette includes white as a fixed color by default. Other colors default to black."
   ]
  },
  {
   "cell_type": "code",
   "execution_count": 2,
   "id": "15180549-7a59-4dbf-a54b-3a0b9a7afb06",
   "metadata": {},
   "outputs": [
    {
     "data": {
      "text/plain": [
       "array([[0., 0., 0.],\n",
       "       [0., 0., 0.],\n",
       "       [0., 0., 0.]])"
      ]
     },
     "execution_count": 2,
     "metadata": {},
     "output_type": "execute_result"
    }
   ],
   "source": [
    "p = Palette(4)\n",
    "p.variable_colors"
   ]
  },
  {
   "cell_type": "markdown",
   "id": "e097c3cb-ba2d-4fa1-93db-f3b38761e397",
   "metadata": {},
   "source": [
    "When run, the following cell will display the actual colors as squares."
   ]
  },
  {
   "cell_type": "code",
   "execution_count": 3,
   "id": "8cb37cd0-2814-4772-9ce3-92837a0db100",
   "metadata": {},
   "outputs": [
    {
     "data": {
      "text/html": [
       "<svg  width=\"220\" height=\"55\"><rect x=\"0\" y=\"0\" width=\"55\" height=\"55\" style=\"fill:#ffffff;stroke-width:2;stroke:rgb(255,255,255)\"/><rect x=\"55\" y=\"0\" width=\"55\" height=\"55\" style=\"fill:#000000;stroke-width:2;stroke:rgb(255,255,255)\"/><rect x=\"110\" y=\"0\" width=\"55\" height=\"55\" style=\"fill:#000000;stroke-width:2;stroke:rgb(255,255,255)\"/><rect x=\"165\" y=\"0\" width=\"55\" height=\"55\" style=\"fill:#000000;stroke-width:2;stroke:rgb(255,255,255)\"/></svg>"
      ],
      "text/plain": [
       "[array([1., 1., 1.]),\n",
       " array([0., 0., 0.]),\n",
       " array([0., 0., 0.]),\n",
       " array([0., 0., 0.])]"
      ]
     },
     "execution_count": 3,
     "metadata": {},
     "output_type": "execute_result"
    }
   ],
   "source": [
    "p.to_seaborn()"
   ]
  },
  {
   "cell_type": "markdown",
   "id": "0c12c59c-737e-43fd-adea-a710394b9ab5",
   "metadata": {},
   "source": [
    "This won't persist when reopening a saved notebook, but you can always redisplay them using the following:\n",
    "```\n",
    "from seaborn.palettes import _ColorPalette\n",
    "_ColorPalette(p.variable_colors/255)\n",
    "```"
   ]
  },
  {
   "cell_type": "markdown",
   "id": "95c14ce2-2ce5-49e4-861b-db1bab26d486",
   "metadata": {},
   "source": [
    "We can set the non-fixed colors as follows:"
   ]
  },
  {
   "cell_type": "code",
   "execution_count": 4,
   "id": "cca59770-de8e-4732-a40e-733a1077db3c",
   "metadata": {},
   "outputs": [
    {
     "data": {
      "text/html": [
       "<svg  width=\"220\" height=\"55\"><rect x=\"0\" y=\"0\" width=\"55\" height=\"55\" style=\"fill:#ffffff;stroke-width:2;stroke:rgb(255,255,255)\"/><rect x=\"55\" y=\"0\" width=\"55\" height=\"55\" style=\"fill:#ff0000;stroke-width:2;stroke:rgb(255,255,255)\"/><rect x=\"110\" y=\"0\" width=\"55\" height=\"55\" style=\"fill:#00ff00;stroke-width:2;stroke:rgb(255,255,255)\"/><rect x=\"165\" y=\"0\" width=\"55\" height=\"55\" style=\"fill:#0000ff;stroke-width:2;stroke:rgb(255,255,255)\"/></svg>"
      ],
      "text/plain": [
       "[array([1., 1., 1.]),\n",
       " array([1., 0., 0.]),\n",
       " array([0., 1., 0.]),\n",
       " array([0., 0., 1.])]"
      ]
     },
     "execution_count": 4,
     "metadata": {},
     "output_type": "execute_result"
    }
   ],
   "source": [
    "p.set_variable_colors([\n",
    "    [255, 0, 0],\n",
    "    [0, 255, 0],\n",
    "    [0, 0, 255]\n",
    "])\n",
    "p.to_seaborn()"
   ]
  },
  {
   "cell_type": "markdown",
   "id": "aa3087eb-7521-4ac5-8a46-d8246bdb2a9e",
   "metadata": {},
   "source": [
    "# Setting up CVD weights"
   ]
  },
  {
   "cell_type": "markdown",
   "id": "ea54bb11-61f0-411a-b49b-94861f3120aa",
   "metadata": {},
   "source": [
    "We will limit ourselves to single types of color vision deficiency by setting only the first row to be nonzero in CVD-space. We'll give double weight to non-CVD distance, since this is much more common in the population. We'll also give lower weight to tritanomaly."
   ]
  },
  {
   "cell_type": "code",
   "execution_count": 5,
   "id": "d454f493-6577-4575-bcb1-53003e529937",
   "metadata": {},
   "outputs": [],
   "source": [
    "cvd_matrix = np.zeros((len(CVD_TYPES), len(CVD_TYPES)))\n",
    "cvd_matrix[0, 0] = 1  # No CVD\n",
    "cvd_matrix[0, 1] = 0.5  # deuteranomaly\n",
    "cvd_matrix[0, 2] = 0.5  # protanomaly\n",
    "cvd_matrix[0, 3] = 0.25  # tritanomaly (rarer form of CVD)"
   ]
  },
  {
   "cell_type": "markdown",
   "id": "1c6dc5e6-c5d6-4058-92f6-79bd58b76420",
   "metadata": {},
   "source": [
    "# Generating a three-color palette"
   ]
  },
  {
   "cell_type": "code",
   "execution_count": 6,
   "id": "4bdfd5c6-a6d8-4e9c-9ba8-6a27fa9747f3",
   "metadata": {},
   "outputs": [
    {
     "name": "stderr",
     "output_type": "stream",
     "text": [
      "100%|█████████████████████████████████████████| 100/100 [00:39<00:00,  2.52it/s]"
     ]
    },
    {
     "name": "stdout",
     "output_type": "stream",
     "text": [
      "CPU times: user 39.6 s, sys: 1.94 s, total: 41.5 s\n",
      "Wall time: 40.1 s\n"
     ]
    },
    {
     "name": "stderr",
     "output_type": "stream",
     "text": [
      "\n"
     ]
    },
    {
     "data": {
      "text/plain": [
       "np.float64(0.02281758825387751)"
      ]
     },
     "execution_count": 6,
     "metadata": {},
     "output_type": "execute_result"
    }
   ],
   "source": [
    "%%time\n",
    "p = Palette(4, cvd_matrix=cvd_matrix)\n",
    "p.generate()"
   ]
  },
  {
   "cell_type": "markdown",
   "id": "a5f1f40e-c45b-438b-a14b-3d97988e45d0",
   "metadata": {},
   "source": [
    "The output is the cost associated with this color palette."
   ]
  },
  {
   "cell_type": "code",
   "execution_count": 7,
   "id": "cd2e883e-9a19-4cbd-8812-0735d7f94265",
   "metadata": {},
   "outputs": [
    {
     "data": {
      "text/plain": [
       "array([[ 83.09387207,  76.64025879,  15.54077148],\n",
       "       [252.44567871, 216.66772461,   9.89099121],\n",
       "       [ 30.20632935,  17.33544922, 146.18786621]])"
      ]
     },
     "execution_count": 7,
     "metadata": {},
     "output_type": "execute_result"
    }
   ],
   "source": [
    "p.variable_colors"
   ]
  },
  {
   "cell_type": "code",
   "execution_count": 8,
   "id": "26c99c63-48bc-4350-bcea-c947a56779ce",
   "metadata": {},
   "outputs": [
    {
     "data": {
      "text/html": [
       "<svg  width=\"220\" height=\"55\"><rect x=\"0\" y=\"0\" width=\"55\" height=\"55\" style=\"fill:#ffffff;stroke-width:2;stroke:rgb(255,255,255)\"/><rect x=\"55\" y=\"0\" width=\"55\" height=\"55\" style=\"fill:#534d10;stroke-width:2;stroke:rgb(255,255,255)\"/><rect x=\"110\" y=\"0\" width=\"55\" height=\"55\" style=\"fill:#fcd90a;stroke-width:2;stroke:rgb(255,255,255)\"/><rect x=\"165\" y=\"0\" width=\"55\" height=\"55\" style=\"fill:#1e1192;stroke-width:2;stroke:rgb(255,255,255)\"/></svg>"
      ],
      "text/plain": [
       "[array([1., 1., 1.]),\n",
       " array([0.32585832, 0.30055003, 0.0609442 ]),\n",
       " array([0.98998305, 0.84967735, 0.0387882 ]),\n",
       " array([0.11845619, 0.06798215, 0.57328575])]"
      ]
     },
     "execution_count": 8,
     "metadata": {},
     "output_type": "execute_result"
    }
   ],
   "source": [
    "p.to_seaborn()"
   ]
  },
  {
   "cell_type": "markdown",
   "id": "71430430-c134-46e6-ab23-4e00b5cb44d8",
   "metadata": {},
   "source": [
    "If visibility against the white background (index `0`) is a priority, set `pair_matrix` to upweight the cost of pairings with that fixed color:"
   ]
  },
  {
   "cell_type": "code",
   "execution_count": 9,
   "id": "ed21ad41-229a-4637-b8d9-42209221a0fe",
   "metadata": {},
   "outputs": [
    {
     "name": "stderr",
     "output_type": "stream",
     "text": [
      "100%|█████████████████████████████████████████| 100/100 [00:39<00:00,  2.54it/s]\n"
     ]
    },
    {
     "data": {
      "text/plain": [
       "np.float64(0.3128358587087169)"
      ]
     },
     "execution_count": 9,
     "metadata": {},
     "output_type": "execute_result"
    }
   ],
   "source": [
    "pair_matrix = np.ones((3, 4))\n",
    "pair_matrix[:, 0] = 10\n",
    "p = Palette(4, cvd_matrix=cvd_matrix, pair_matrix=pair_matrix)\n",
    "p.generate()"
   ]
  },
  {
   "cell_type": "code",
   "execution_count": 10,
   "id": "f86b6ba2-1db5-4632-b189-9ed4f357a365",
   "metadata": {},
   "outputs": [
    {
     "data": {
      "text/plain": [
       "array([[  8.46915574,  10.60350638,  43.77535077],\n",
       "       [235.22507337,  18.92498456, 219.5296373 ],\n",
       "       [ 52.87284179, 126.92778933,  15.14357708]])"
      ]
     },
     "execution_count": 10,
     "metadata": {},
     "output_type": "execute_result"
    }
   ],
   "source": [
    "p.variable_colors"
   ]
  },
  {
   "cell_type": "code",
   "execution_count": 11,
   "id": "2a9efc19-4c0a-4c05-abf3-4a1479e0993a",
   "metadata": {},
   "outputs": [
    {
     "data": {
      "text/html": [
       "<svg  width=\"220\" height=\"55\"><rect x=\"0\" y=\"0\" width=\"55\" height=\"55\" style=\"fill:#ffffff;stroke-width:2;stroke:rgb(255,255,255)\"/><rect x=\"55\" y=\"0\" width=\"55\" height=\"55\" style=\"fill:#080b2c;stroke-width:2;stroke:rgb(255,255,255)\"/><rect x=\"110\" y=\"0\" width=\"55\" height=\"55\" style=\"fill:#eb13dc;stroke-width:2;stroke:rgb(255,255,255)\"/><rect x=\"165\" y=\"0\" width=\"55\" height=\"55\" style=\"fill:#357f0f;stroke-width:2;stroke:rgb(255,255,255)\"/></svg>"
      ],
      "text/plain": [
       "[array([1., 1., 1.]),\n",
       " array([0.03321238, 0.04158238, 0.17166804]),\n",
       " array([0.92245127, 0.07421563, 0.86090054]),\n",
       " array([0.20734448, 0.49775604, 0.05938658])]"
      ]
     },
     "execution_count": 11,
     "metadata": {},
     "output_type": "execute_result"
    }
   ],
   "source": [
    "p.to_seaborn()"
   ]
  },
  {
   "cell_type": "markdown",
   "id": "14da6862-e437-459b-9d7f-87deebcf9028",
   "metadata": {},
   "source": [
    "# Generating an eight-color palette"
   ]
  },
  {
   "cell_type": "code",
   "execution_count": 12,
   "id": "e2748962-7f19-4023-bcf3-d33d7c12c65c",
   "metadata": {},
   "outputs": [
    {
     "name": "stderr",
     "output_type": "stream",
     "text": [
      "100%|█████████████████████████████████████████| 100/100 [12:26<00:00,  7.47s/it]\n"
     ]
    },
    {
     "data": {
      "text/html": [
       "<svg  width=\"495\" height=\"55\"><rect x=\"0\" y=\"0\" width=\"55\" height=\"55\" style=\"fill:#ffffff;stroke-width:2;stroke:rgb(255,255,255)\"/><rect x=\"55\" y=\"0\" width=\"55\" height=\"55\" style=\"fill:#4fd7b4;stroke-width:2;stroke:rgb(255,255,255)\"/><rect x=\"110\" y=\"0\" width=\"55\" height=\"55\" style=\"fill:#230218;stroke-width:2;stroke:rgb(255,255,255)\"/><rect x=\"165\" y=\"0\" width=\"55\" height=\"55\" style=\"fill:#221e9a;stroke-width:2;stroke:rgb(255,255,255)\"/><rect x=\"220\" y=\"0\" width=\"55\" height=\"55\" style=\"fill:#c86699;stroke-width:2;stroke:rgb(255,255,255)\"/><rect x=\"275\" y=\"0\" width=\"55\" height=\"55\" style=\"fill:#f2ef34;stroke-width:2;stroke:rgb(255,255,255)\"/><rect x=\"330\" y=\"0\" width=\"55\" height=\"55\" style=\"fill:#99521d;stroke-width:2;stroke:rgb(255,255,255)\"/><rect x=\"385\" y=\"0\" width=\"55\" height=\"55\" style=\"fill:#267649;stroke-width:2;stroke:rgb(255,255,255)\"/><rect x=\"440\" y=\"0\" width=\"55\" height=\"55\" style=\"fill:#7f5dda;stroke-width:2;stroke:rgb(255,255,255)\"/></svg>"
      ],
      "text/plain": [
       "[array([1., 1., 1.]),\n",
       " array([0.30788377, 0.84383796, 0.70603751]),\n",
       " array([0.13674759, 0.0061314 , 0.09395566]),\n",
       " array([0.13258817, 0.1186831 , 0.60513734]),\n",
       " array([0.78538156, 0.40156337, 0.60155855]),\n",
       " array([0.95078101, 0.93817785, 0.20244289]),\n",
       " array([0.60167292, 0.32246797, 0.11446611]),\n",
       " array([0.1475515 , 0.46325983, 0.28626329]),\n",
       " array([0.4980626 , 0.36607349, 0.8562561 ])]"
      ]
     },
     "execution_count": 12,
     "metadata": {},
     "output_type": "execute_result"
    }
   ],
   "source": [
    "p = Palette(9, cvd_matrix=cvd_matrix)\n",
    "p.generate()\n",
    "p.to_seaborn()"
   ]
  },
  {
   "cell_type": "code",
   "execution_count": 13,
   "id": "c2b32210-9635-4f37-8d10-c44f907211dc",
   "metadata": {},
   "outputs": [
    {
     "data": {
      "text/plain": [
       "array([[ 78.51036072, 215.17868042, 180.03956604],\n",
       "       [ 34.87063599,   1.56350708,  23.95869446],\n",
       "       [ 33.8099823 ,  30.26419067, 154.3100214 ],\n",
       "       [200.27229691, 102.39865875, 153.39743042],\n",
       "       [242.44915771, 239.23535156,  51.62293625],\n",
       "       [153.42659473,  82.22933197,  29.18885803],\n",
       "       [ 37.62563324, 118.1312561 ,  72.99713898],\n",
       "       [127.00596237,  93.34873962, 218.3453064 ]])"
      ]
     },
     "execution_count": 13,
     "metadata": {},
     "output_type": "execute_result"
    }
   ],
   "source": [
    "p.variable_colors"
   ]
  },
  {
   "cell_type": "code",
   "execution_count": 2,
   "id": "87add2d4-f63c-4629-9fda-6c59babd00ed",
   "metadata": {},
   "outputs": [
    {
     "name": "stdout",
     "output_type": "stream",
     "text": [
      "Distance matrix shape: (4, 4)\n",
      "Average discrimination cost: 0.006\n"
     ]
    }
   ],
   "source": [
    "from montecolor.distance import distance_matrix, cost_matrix, weighted_cost\n",
    "\n",
    "# Analyze specific color pairs\n",
    "red = [255, 0, 0]\n",
    "green = [0, 255, 0]\n",
    "\n",
    "# Get distances across all CVD combinations\n",
    "distances = distance_matrix(red, green)\n",
    "print(f\"Distance matrix shape: {distances.shape}\")  # (4, 4, 1)\n",
    "\n",
    "# Convert to optimization costs\n",
    "costs = cost_matrix(distances)\n",
    "\n",
    "# Get weighted average cost\n",
    "avg_cost = weighted_cost(red, green)\n",
    "print(f\"Average discrimination cost: {avg_cost:.3f}\")"
   ]
  },
  {
   "cell_type": "code",
   "execution_count": null,
   "id": "be918ec4-50c3-47df-a907-babcf31c911b",
   "metadata": {},
   "outputs": [],
   "source": []
  }
 ],
 "metadata": {
  "kernelspec": {
   "display_name": "Python [conda env:materials]",
   "language": "python",
   "name": "conda-env-materials-py"
  },
  "language_info": {
   "codemirror_mode": {
    "name": "ipython",
    "version": 3
   },
   "file_extension": ".py",
   "mimetype": "text/x-python",
   "name": "python",
   "nbconvert_exporter": "python",
   "pygments_lexer": "ipython3",
   "version": "3.11.8"
  }
 },
 "nbformat": 4,
 "nbformat_minor": 5
}
